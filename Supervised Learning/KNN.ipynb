---

# K Nearest Neighbors
## Definition:
A k-nearest-neighbor is a data classification algorithm that attempts to determine what group a data point is in by looking at the data points around it.\
KNN method is one of the simplest supervised learning model that we can make for doing classifiction or making predicition.\
K-NN algorithm stores all the available data and classifies a new data point based on the similarity. This means when new data appears then it can be easily classified into a well suite category by using K- NN algorithm.\
K-NN is a non-parametric algorithm, which means it does not make any assumption on underlying data.
<img src="https://test.basel.in/wp-content/uploads/2019/06/KNN-1.jpg" width="800" height="700">

---
